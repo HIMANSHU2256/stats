{
  "nbformat": 4,
  "nbformat_minor": 0,
  "metadata": {
    "colab": {
      "name": "HIMU practical 2",
      "provenance": [],
      "collapsed_sections": [],
      "authorship_tag": "ABX9TyNzIpBfIqp9/Tr33mA3Xl8M",
      "include_colab_link": true
    },
    "kernelspec": {
      "display_name": "Python 3",
      "name": "python3"
    },
    "language_info": {
      "name": "python"
    }
  },
  "cells": [
    {
      "cell_type": "markdown",
      "metadata": {
        "id": "view-in-github",
        "colab_type": "text"
      },
      "source": [
        "<a href=\"https://colab.research.google.com/github/HIMANSHU2256/stats/blob/main/HIMU_practical_2.ipynb\" target=\"_parent\"><img src=\"https://colab.research.google.com/assets/colab-badge.svg\" alt=\"Open In Colab\"/></a>"
      ]
    },
    {
      "cell_type": "code",
      "metadata": {
        "colab": {
          "base_uri": "https://localhost:8080/"
        },
        "id": "wivYGBpwUFQO",
        "outputId": "9d4e07f9-d6ac-4101-ceb2-b7aa66ffb3ae"
      },
      "source": [
        "from scipy.stats import poisson\n",
        "x=3\n",
        "mu=2\n",
        "mean,var=poisson.stats(mu)\n",
        "pd=poisson.pmf(x,mu)\n",
        "print(\"probability that exactly 3 homes sold tomorrow is:\" +str(pd))\n",
        "print(\"mean =\"+str(mean)) \n",
        "print(\"variance =\"+str(var))"
      ],
      "execution_count": 20,
      "outputs": [
        {
          "output_type": "stream",
          "name": "stdout",
          "text": [
            "probability that exactly 3 homes sold tomorrow is:0.18044704431548356\n",
            "mean =2.0\n",
            "variance =2.0\n"
          ]
        }
      ]
    },
    {
      "cell_type": "code",
      "metadata": {
        "colab": {
          "base_uri": "https://localhost:8080/"
        },
        "id": "kwfbGosMXC5J",
        "outputId": "ce33cacb-a0a1-4a8e-f40f-025e92be4a79"
      },
      "source": [
        "from scipy.stats import poisson\n",
        "x=3\n",
        "mu=5\n",
        "mean,var=poisson.stats(mu)\n",
        "pd=poisson.cdf(x,mu)\n",
        "print(\"probability that tourist see fewer than 4 lions is:\" +str(pd))\n",
        "print(\"mean =\"+str(mean)) \n",
        "print(\"variance =\"+str(var))"
      ],
      "execution_count": 21,
      "outputs": [
        {
          "output_type": "stream",
          "name": "stdout",
          "text": [
            "probability that tourist see fewer than 4 lions is:0.2650259152973616\n",
            "mean =5.0\n",
            "variance =5.0\n"
          ]
        }
      ]
    },
    {
      "cell_type": "code",
      "metadata": {
        "colab": {
          "base_uri": "https://localhost:8080/",
          "height": 906
        },
        "id": "cQHD0Qn7ZnNa",
        "outputId": "8815a7a9-dba5-43c3-de80-16ff719fe223"
      },
      "source": [
        "from scipy.stats import poisson\n",
        "#1st part\n",
        "\n",
        "MU=3\n",
        "mean,var=poisson.stats(MU)\n",
        "pd=poisson.pmf(0,MU)\n",
        "qd=1-pd\n",
        "print(\"probability he will sell some policies:\" +str(qd))\n",
        "import numpy as np\n",
        "import matplotlib.pyplot as plt\n",
        "x=np.arange(1,10)\n",
        "y=[poisson.pmf(X,MU) for X in x]  \n",
        "plt.bar(x,y)\n",
        "plt.show()\n",
        "\n",
        "#2nd part\n",
        "\n",
        "rd=poisson.pmf(2,3)\n",
        "sd=poisson.pmf(3,3)\n",
        "td=poisson.pmf(4,3)\n",
        "ud=rd+sd+td\n",
        "print(\"probability he will sell 2 or more policies but less than 5 is:\" +str(ud))\n",
        "import numpy as np\n",
        "import matplotlib.pyplot as plt\n",
        "x=[2,3,4]\n",
        "y=[poisson.pmf(Y,MU) for Y in x] \n",
        "Y=[poisson.cdf(Y1,MU) for Y1 in x]\n",
        "plt.bar(x,y)\n",
        "plt.xlabel(\"Value of X\")\n",
        "plt.ylabel(\"Probability(X)\")\n",
        "plt.show()\n",
        "plt.bar(x,Y)\n",
        "plt.xlabel(\"Value of X\")\n",
        "plt.ylabel(\"Probability(X)\")\n",
        "plt.show()\n",
        "print(\"mean =\"+str(mean))\n",
        "print(\"variance =\"+str(var))\n",
        "\n",
        "#3rd part\n",
        "\n",
        "mu=0.6\n",
        "x1=1\n",
        "meann,varr=poisson.stats(mu)\n",
        "vd=poisson.pmf(x1,mu)\n",
        "print(\"probability in given day he sell 1 policy is:\" +str(vd))\n",
        "import numpy as np\n",
        "import matplotlib.pyplot as plt\n",
        "print(\"mean =\"+str(meann)) \n",
        "print(\"variance =\"+str(varr))\n",
        "\n",
        "\n",
        "\n"
      ],
      "execution_count": 24,
      "outputs": [
        {
          "output_type": "stream",
          "name": "stdout",
          "text": [
            "probability he will sell some policies:0.950212931632136\n"
          ]
        },
        {
          "output_type": "display_data",
          "data": {
            "image/png": "[encoded data removed]",
            "text/plain": [
              "<Figure size 432x288 with 1 Axes>"
            ]
          },
          "metadata": {
            "needs_background": "light"
          }
        },
        {
          "output_type": "stream",
          "name": "stdout",
          "text": [
            "probability he will sell 2 or more policies but less than 5 is:0.6161149710523164\n"
          ]
        },
        {
          "output_type": "display_data",
          "data": {
            "image/png": "[encoded data removed]",
            "text/plain": [
              "<Figure size 432x288 with 1 Axes>"
            ]
          },
          "metadata": {
            "needs_background": "light"
          }
        },
        {
          "output_type": "display_data",
          "data": {
            "image/png": "[encoded data removed]",
            "text/plain": [
              "<Figure size 432x288 with 1 Axes>"
            ]
          },
          "metadata": {
            "needs_background": "light"
          }
        },
        {
          "output_type": "stream",
          "name": "stdout",
          "text": [
            "mean =3.0\n",
            "variance =3.0\n",
            "probability in given day he sell 1 policy is:0.3292869816564159\n",
            "mean =0.6\n",
            "variance =0.6\n"
          ]
        }
      ]
    },
    {
      "cell_type": "code",
      "metadata": {
        "colab": {
          "base_uri": "https://localhost:8080/"
        },
        "id": "Fq8ubq0DrPFn",
        "outputId": "4bc73cba-c925-46a0-a54b-e7b6f3a4b241"
      },
      "source": [
        "from scipy.stats import geom\n",
        "p=0.03\n",
        "x=5\n",
        "pd=geom.pmf(x,p)\n",
        "print(\"probability that first defective occur in 5th item is:\" +str(pd))\n"
      ],
      "execution_count": null,
      "outputs": [
        {
          "name": "stdout",
          "output_type": "stream",
          "text": [
            "probability that first defective occur in 5th item is:0.026558784299999996\n"
          ]
        }
      ]
    },
    {
      "cell_type": "code",
      "metadata": {
        "colab": {
          "base_uri": "https://localhost:8080/",
          "height": 558
        },
        "id": "uPJPLh7b8eCR",
        "outputId": "36058c60-0ebf-4c85-98ad-9a4180e91dc2"
      },
      "source": [
        "from scipy.stats import geom\n",
        "p=0.3\n",
        "x=5\n",
        "pd=geom.pmf(x,p)\n",
        "print(\"probability of his winning the price when he already missed 4 chances is:\" +str(pd))\n",
        "import matplotlib.pyplot as plt\n",
        "import numpy as np\n",
        "X=np.arange(1,11)\n",
        "y=[geom.pmf(X1,p) for X1 in X]\n",
        "t=[geom.cdf(Y,p) for Y in X]\n",
        "plt.bar(X,y)\n",
        "plt.xlabel(\"value of X\")\n",
        "plt.ylabel(\"probability(X)\")\n",
        "plt.show()\n",
        "plt.bar(X,t)\n",
        "plt.xlabel(\"value of X\")\n",
        "plt.ylabel(\"probability(X)\")\n",
        "plt.show()"
      ],
      "execution_count": null,
      "outputs": [
        {
          "name": "stdout",
          "output_type": "stream",
          "text": [
            "probability of his winning the price when he already missed 4 chances is:0.07202999999999998\n"
          ]
        },
        {
          "data": {
            "image/png": "[encoded data removed]",
            "text/plain": [
              "<Figure size 432x288 with 1 Axes>"
            ]
          },
          "metadata": {},
          "output_type": "display_data"
        },
        {
          "data": {
            "image/png": "[encoded data removed]",
            "text/plain": [
              "<Figure size 432x288 with 1 Axes>"
            ]
          },
          "metadata": {},
          "output_type": "display_data"
        }
      ]
    }
  ]
}