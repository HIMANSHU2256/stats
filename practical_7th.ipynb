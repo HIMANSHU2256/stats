{
  "nbformat": 4,
  "nbformat_minor": 0,
  "metadata": {
    "colab": {
      "name": "practical 7th.ipynb",
      "provenance": [],
      "authorship_tag": "ABX9TyN588rkzdUJ8qXpO3Ptm31x",
      "include_colab_link": true
    },
    "kernelspec": {
      "name": "python3",
      "display_name": "Python 3"
    },
    "language_info": {
      "name": "python"
    }
  },
  "cells": [
    {
      "cell_type": "markdown",
      "metadata": {
        "id": "view-in-github",
        "colab_type": "text"
      },
      "source": [
        "<a href=\"https://colab.research.google.com/github/HIMANSHU2256/stats/blob/main/practical_7th.ipynb\" target=\"_parent\"><img src=\"https://colab.research.google.com/assets/colab-badge.svg\" alt=\"Open In Colab\"/></a>"
      ]
    },
    {
      "cell_type": "code",
      "metadata": {
        "colab": {
          "base_uri": "https://localhost:8080/"
        },
        "id": "OL2y8Grxa7WF",
        "outputId": "382c4eb5-48c7-4119-ef4a-2ecdad3d5159"
      },
      "source": [
        "from statsmodels.stats.weightstats import ztest as ztest \n",
        "\n",
        "data = [1.8, 1.6, 2.6, 2.7, 2.8, 2.2, 1.2, 3.2, 1.5, 1.6, 1.6, 2.0, 3.0, 1.5, 1.4, 2.2, 1.9, \n",
        "\n",
        "1.8, 1.9, 1.8, 1.7, \n",
        "\n",
        "1.6, 1.2, 1.9, 2.0, 2.0, 1.8, 1.9, 1.8, 1.7, 1.6, 1.2, 1.9, 2.0, 2.0, 1.8, 1.9, 1.8, 1.7, 1.6, \n",
        "\n",
        "1.2, 1.9, \n",
        "\n",
        "2.0, 2.0] \n",
        "\n",
        "#perform one sample z-test \n",
        "\n",
        "zscore ,pval=ztest(data, value=2) \n",
        "\n",
        "print(float(pval)) \n",
        "\n",
        "if pval>0.05: \n",
        "\n",
        " print(\"reject null hypothesis\") \n",
        "\n",
        "else: \n",
        "\n",
        " print(\"accept null hypothesis\")\n",
        "\n"
      ],
      "execution_count": 2,
      "outputs": [
        {
          "output_type": "stream",
          "name": "stderr",
          "text": [
            "/usr/local/lib/python3.7/dist-packages/statsmodels/tools/_testing.py:19: FutureWarning: pandas.util.testing is deprecated. Use the functions in the public API at pandas.testing instead.\n",
            "  import pandas.util.testing as tm\n"
          ]
        },
        {
          "output_type": "stream",
          "name": "stdout",
          "text": [
            "0.05946950435035147\n",
            "reject null hypothesis\n"
          ]
        }
      ]
    },
    {
      "cell_type": "code",
      "metadata": {
        "colab": {
          "base_uri": "https://localhost:8080/"
        },
        "id": "QWjvaqsjcRJO",
        "outputId": "a54d7686-916d-4b90-d3cd-e416c661cd0f"
      },
      "source": [
        "from statsmodels.stats.weightstats import ztest as ztest \n",
        "\n",
        "#enter IQ levels for 20 individuals from each city \n",
        "\n",
        "varietyA = [23, 24, 25, 23, 22, 24, 23,23, 26, 21, 22, 23, 24, 20, 25, 23, 22, 23, 24, \n",
        "\n",
        "25, 23, 22, 24, 23,23, \n",
        "\n",
        "26, 21, 22, 23, 24, 20, 25, 23, 22, 23, 24, 25, 23, 22, 24, 23,23, 26, 21, 22, 23, 24, \n",
        "\n",
        "20, 25, 23, \n",
        "\n",
        "22] \n",
        "\n",
        "varietyB = [20, 19, 18, 18, 22, 20, 19, 18, 18, 22, 21, 22, 21, 18, 23, 23, 22, 20, 21, \n",
        "\n",
        "20, 21, 19, 19, 21, 22, \n",
        "\n",
        "21, 18, 23, 23, 22, 20, 21, 20, 21, 19, 19, 20, 19, 18, 18, 22, 21, 22, 21, 18, 23, 23, \n",
        "\n",
        "22, 20, 21, 20] \n",
        "\n",
        "#perform two sample z-test \n",
        "\n",
        "mean=sum(varietyA)/len(varietyA) \n",
        "\n",
        "meanb=sum(varietyB)/len(varietyB) \n",
        "\n",
        "m=mean-meanb \n",
        "\n",
        "zscore ,pval=ztest(varietyA, varietyB, value=round(m)) \n",
        "\n",
        "print(float(pval)) \n",
        "\n",
        "if pval<0.05: \n",
        "\n",
        " print(\"reject null hypothesis\") \n",
        "\n",
        "else: \n",
        "\n",
        " print(\"accept null hypothesis\") "
      ],
      "execution_count": 4,
      "outputs": [
        {
          "output_type": "stream",
          "name": "stdout",
          "text": [
            "0.30829871605929005\n",
            "accept null hypothesis\n"
          ]
        }
      ]
    },
    {
      "cell_type": "code",
      "metadata": {
        "id": "MeyWsWY7ciok"
      },
      "source": [
        ""
      ],
      "execution_count": null,
      "outputs": []
    }
  ]
}