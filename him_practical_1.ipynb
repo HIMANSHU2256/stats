{
  "nbformat": 4,
  "nbformat_minor": 0,
  "metadata": {
    "colab": {
      "name": "him practical 1.ipynb",
      "provenance": [],
      "collapsed_sections": [],
      "authorship_tag": "ABX9TyPkLKxpXOEZCCob1qDZv67X",
      "include_colab_link": true
    },
    "kernelspec": {
      "name": "python3",
      "display_name": "Python 3"
    },
    "language_info": {
      "name": "python"
    }
  },
  "cells": [
    {
      "cell_type": "markdown",
      "metadata": {
        "id": "view-in-github",
        "colab_type": "text"
      },
      "source": [
        "<a href=\"https://colab.research.google.com/github/HIMANSHU2256/stats/blob/main/him_practical_1.ipynb\" target=\"_parent\"><img src=\"https://colab.research.google.com/assets/colab-badge.svg\" alt=\"Open In Colab\"/></a>"
      ]
    },
    {
      "cell_type": "code",
      "metadata": {
        "colab": {
          "base_uri": "https://localhost:8080/"
        },
        "id": "wTDJMswdU9dA",
        "outputId": "c17ce961-b12d-42bd-dba3-f8a322e3b9de"
      },
      "source": [
        "from scipy.stats import binom\n",
        "n=6\n",
        "p=0.5\n",
        "r_values=3\n",
        "mean,var=binom.stats(n,p)\n",
        "pd=binom.pmf(r_values,n,p)\n",
        "print(str(r_values) + \"\\t\" + str(pd))\n",
        "print(\"probability of getting head exactly 3 times is:\" +str(pd))\n",
        "print(\"mean =\"+str(mean)) \n",
        "print(\"variance =\"+str(var))\n"
      ],
      "execution_count": 28,
      "outputs": [
        {
          "output_type": "stream",
          "name": "stdout",
          "text": [
            "3\t0.3125000000000002\n",
            "probability of getting head exactly 3 times is:0.3125000000000002\n",
            "mean =3.0\n",
            "variance =1.5\n"
          ]
        }
      ]
    },
    {
      "cell_type": "code",
      "metadata": {
        "colab": {
          "base_uri": "https://localhost:8080/"
        },
        "id": "N0ryjRiAXv_S",
        "outputId": "301b27eb-b6cb-4d55-e660-529f73132a25"
      },
      "source": [
        "from scipy.stats import binom\n",
        "n=8\n",
        "p=0.1\n",
        "r_values=1\n",
        "mean,var=binom.stats(n,p)\n",
        "pd=binom.pmf(r_values,n,p) \n",
        "print(str(r_values) + \"\\t\" + str(pd))\n",
        "print(\"probability of exactly one is successful is:\" +str(pd))\n",
        "print(\"mean =\"+str(mean)) \n",
        "print(\"variance =\"+str(var))\n",
        "\n"
      ],
      "execution_count": 29,
      "outputs": [
        {
          "output_type": "stream",
          "name": "stdout",
          "text": [
            "1\t0.3826375200000002\n",
            "probability of exactly one is successful is:0.3826375200000002\n",
            "mean =0.8\n",
            "variance =0.7200000000000001\n"
          ]
        }
      ]
    },
    {
      "cell_type": "code",
      "metadata": {
        "colab": {
          "base_uri": "https://localhost:8080/"
        },
        "id": "EofLDrJAbsgX",
        "outputId": "a9ed0d74-50a7-4c81-9243-15f0cf6eaad8"
      },
      "source": [
        "from scipy.stats import binom\n",
        "n=10\n",
        "p=0.1\n",
        "r_values=list(range(4))\n",
        "d_values=list(range(4,11))\n",
        "mean,var=binom.stats(n,p)\n",
        "pd=[binom.pmf(r,n,p) for r in r_values]\n",
        "df=[binom.pmf(s,n,p) for s in d_value]\n",
        "print(str(d_values) + \"\\t\" + str(df))\n",
        "s=sum(pd)\n",
        "t=1-s\n",
        "print(\"probability of more than 3 defective is:\" +str(t))\n",
        "print(\"mean =\"+str(mean)) \n",
        "print(\"variance =\"+str(var))\n",
        "\n"
      ],
      "execution_count": 33,
      "outputs": [
        {
          "output_type": "stream",
          "name": "stdout",
          "text": [
            "[4, 5, 6, 7, 8, 9, 10]\t[0.011160261000000015, 0.0014880348000000042, 0.00013778100000000015, 8.748000000000036e-06, 3.645000000000009e-07, 9.000000000000028e-09, 1.0000000000000031e-10]\n",
            "probability of more than 3 defective is:0.01279519839999943\n",
            "mean =1.0\n",
            "variance =0.9\n"
          ]
        }
      ]
    },
    {
      "cell_type": "code",
      "metadata": {
        "colab": {
          "base_uri": "https://localhost:8080/"
        },
        "id": "ttiBupECgsJS",
        "outputId": "101ab289-5244-48fa-e704-9a0a5da38b08"
      },
      "source": [
        "from scipy.stats import binom\n",
        "n=12\n",
        "p=0.2\n",
        "r_values=2\n",
        "s_values=list(range(3))\n",
        "t_values=list(range(3,13))\n",
        "mean,var=binom.stats(n,p)\n",
        "pd=binom.pmf(r_values,n,p)\n",
        "sd=[binom.pmf(s,n,p) for s in s_values]\n",
        "td=[binom.pmf(t,n,p) for t in t_values]\n",
        "print(str(r_values) + \"\\t\" + str(pd))\n",
        "print(\"probability of exactly 2 are of such changes is:\" +str(pd))\n",
        "print(str(s_values)+ \"\\t\" + str(sd))\n",
        "a=sum(sd)\n",
        "print(\"probability of atmost 2 are of such changes is:\" +str(a))\n",
        "print(str(t_values)+ \"\\t\" +str(td))\n",
        "b=1-a\n",
        "print(\"probabiity of more than 2 such changes is:\" +str(b))\n",
        "\n",
        "\n",
        "print(\"mean =\"+str(mean)) \n",
        "print(\"variance =\"+str(var))\n"
      ],
      "execution_count": 35,
      "outputs": [
        {
          "output_type": "stream",
          "name": "stdout",
          "text": [
            "2\t0.28346784153599947\n",
            "probability of exactly 2 are of such changes is:0.28346784153599947\n",
            "[0, 1, 2]\t[0.06871947673599997, 0.2061584302079996, 0.28346784153599947]\n",
            "probability of atmost 2 are of such changes is:0.558345748479999\n",
            "[3, 4, 5, 6, 7, 8, 9, 10, 11, 12]\t[0.23622320128000002, 0.1328755507199998, 0.05315022028799997, 0.01550214758399999, 0.003321888767999998, 0.0005190451199999995, 5.767168000000002e-05, 4.3253759999999935e-06, 1.9660799999999964e-07, 4.096000000000008e-09]\n",
            "probabiity of more than 2 such changes is:0.44165425152000104\n",
            "mean =2.4000000000000004\n",
            "variance =1.9200000000000004\n"
          ]
        }
      ]
    },
    {
      "cell_type": "code",
      "metadata": {
        "colab": {
          "base_uri": "https://localhost:8080/",
          "height": 335
        },
        "id": "gwXS-MK5pb0G",
        "outputId": "b2f6f94d-7e69-4bbf-a174-5610445699b2"
      },
      "source": [
        "from scipy.stats import binom\n",
        "n=10\n",
        "p=0.8\n",
        "r_values=list(range(n+1))\n",
        "mean,var=binom.stats(n,p)\n",
        "pd=[binom.pmf(r,n,p) for r in r_values]\n",
        "print(str(r_values) + \"\\t\" + str(pd))\n",
        "print(\"mean =\"+str(mean)) \n",
        "print(\"variance =\"+str(var))\n",
        "import matplotlib.pyplot as plt\n",
        "plt.bar(r_values,pd)\n",
        "plt.show()\n"
      ],
      "execution_count": 39,
      "outputs": [
        {
          "output_type": "stream",
          "name": "stdout",
          "text": [
            "[0, 1, 2, 3, 4, 5, 6, 7, 8, 9, 10]\t[1.0240000000000004e-07, 4.096000000000007e-06, 7.372799999999991e-05, 0.0007864319999999992, 0.005505024000000001, 0.02642411520000004, 0.08808038400000004, 0.20132659200000014, 0.301989888, 0.26843545600000035, 0.10737418240000005]\n",
            "mean =8.0\n",
            "variance =1.5999999999999996\n"
          ]
        },
        {
          "output_type": "display_data",
          "data": {
            "image/png": "[encoded data removed]",
            "text/plain": [
              "<Figure size 432x288 with 1 Axes>"
            ]
          },
          "metadata": {
            "needs_background": "light"
          }
        }
      ]
    }
  ]
}