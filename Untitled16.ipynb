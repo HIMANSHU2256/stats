{
  "nbformat": 4,
  "nbformat_minor": 0,
  "metadata": {
    "colab": {
      "name": "Untitled16.ipynb",
      "provenance": [],
      "authorship_tag": "ABX9TyPueRIj32pZ2/fM84NfO8Y1",
      "include_colab_link": true
    },
    "kernelspec": {
      "name": "python3",
      "display_name": "Python 3"
    },
    "language_info": {
      "name": "python"
    }
  },
  "cells": [
    {
      "cell_type": "markdown",
      "metadata": {
        "id": "view-in-github",
        "colab_type": "text"
      },
      "source": [
        "<a href=\"https://colab.research.google.com/github/HIMANSHU2256/stats/blob/main/Untitled16.ipynb\" target=\"_parent\"><img src=\"https://colab.research.google.com/assets/colab-badge.svg\" alt=\"Open In Colab\"/></a>"
      ]
    },
    {
      "cell_type": "code",
      "metadata": {
        "colab": {
          "base_uri": "https://localhost:8080/"
        },
        "id": "okksxA-PyZrz",
        "outputId": "e42fdc2d-1cf1-4957-bfb5-3e029f80a3cd"
      },
      "source": [
        "from scipy.stats import chi2_contingency\n",
        "table=[[200,150,50],[250,300,50]]\n",
        "print(table)\n",
        "stat,p,dof,expected=chi2_contingency(table)\n",
        "print('P value:', p)\n",
        "if p > 0.05:\n",
        "  print('Opinion poll result Distribution are same')\n",
        "else:\n",
        "  print('Opinion poll result Distribution are different')"
      ],
      "execution_count": 1,
      "outputs": [
        {
          "output_type": "stream",
          "name": "stdout",
          "text": [
            "[[200, 150, 50], [250, 300, 50]]\n",
            "P value: 0.0003029775487145488\n",
            "Opinion poll result Distribution are different\n"
          ]
        }
      ]
    },
    {
      "cell_type": "code",
      "metadata": {
        "colab": {
          "base_uri": "https://localhost:8080/"
        },
        "id": "XW6xtsWjyy7R",
        "outputId": "7301356f-db93-4a47-b0cc-9eaceb4fec05"
      },
      "source": [
        "from scipy.stats import chisquare\n",
        "from scipy.stats import chi2_contingency\n",
        "table=[[13,11,7,13],[15,18,11,5]]\n",
        "print(table)\n",
        "stat,p,dof,expected=chi2_contingency(table)\n",
        "print('P value:', p)\n",
        "if p > 0.05:\n",
        "  print('Here gender claim in which Distribution are same')\n",
        "else:\n",
        "  print('Here gender claim in which Distribution are different')"
      ],
      "execution_count": 2,
      "outputs": [
        {
          "output_type": "stream",
          "name": "stdout",
          "text": [
            "[[13, 11, 7, 13], [15, 18, 11, 5]]\n",
            "P value: 0.11037344568667566\n",
            "Here gender claim in which Distribution are same\n"
          ]
        }
      ]
    },
    {
      "cell_type": "code",
      "metadata": {
        "colab": {
          "base_uri": "https://localhost:8080/"
        },
        "id": "EgQFCPTCzY0Z",
        "outputId": "9d713346-baf4-4e82-d9f3-34b012b69037"
      },
      "source": [
        "from scipy.stats import chisquare\n",
        "from scipy.stats import chi2_contingency\n",
        "table=[[60,120,100],[90,200,350]]\n",
        "print(table)\n",
        "stat,p,dof,expected=chi2_contingency(table)\n",
        "print('P value:', p)\n",
        "if p > 0.05:\n",
        "  print('Here book preference based on gender in which Distribution are same')\n",
        "else:\n",
        "  print('Here book preference based on gender in which Distribution are same Distribution are different')"
      ],
      "execution_count": 3,
      "outputs": [
        {
          "output_type": "stream",
          "name": "stdout",
          "text": [
            "[[60, 120, 100], [90, 200, 350]]\n",
            "P value: 6.938211717057744e-07\n",
            "Here book preference based on gender in which Distribution are same Distribution are different\n"
          ]
        }
      ]
    }
  ]
}