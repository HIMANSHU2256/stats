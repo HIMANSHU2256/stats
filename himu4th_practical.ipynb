{
  "nbformat": 4,
  "nbformat_minor": 0,
  "metadata": {
    "colab": {
      "name": "himu4th practical.ipynb",
      "provenance": [],
      "authorship_tag": "ABX9TyPeJoTp4Liw1W/MqA/b+/kz",
      "include_colab_link": true
    },
    "kernelspec": {
      "name": "python3",
      "display_name": "Python 3"
    },
    "language_info": {
      "name": "python"
    }
  },
  "cells": [
    {
      "cell_type": "markdown",
      "metadata": {
        "id": "view-in-github",
        "colab_type": "text"
      },
      "source": [
        "<a href=\"https://colab.research.google.com/github/HIMANSHU2256/stats/blob/main/himu4th_practical.ipynb\" target=\"_parent\"><img src=\"https://colab.research.google.com/assets/colab-badge.svg\" alt=\"Open In Colab\"/></a>"
      ]
    },
    {
      "cell_type": "code",
      "metadata": {
        "colab": {
          "base_uri": "https://localhost:8080/"
        },
        "id": "tjzQdphsgXHf",
        "outputId": "1af8f313-9349-4a13-df79-905c1ad94f87"
      },
      "source": [
        "from scipy.stats import norm\n",
        "mean=14\n",
        "sd=1\n",
        "X=13\n",
        "a=norm.cdf(X,mean,sd) \n",
        "b=1-a \n",
        "print(\"Probability that a battery lasts at least 13 hours is:\"+str(b))"
      ],
      "execution_count": 58,
      "outputs": [
        {
          "output_type": "stream",
          "name": "stdout",
          "text": [
            "Probability that a battery lasts at least 13 hours is:0.8413447460685429\n"
          ]
        }
      ]
    },
    {
      "cell_type": "code",
      "metadata": {
        "colab": {
          "base_uri": "https://localhost:8080/"
        },
        "id": "3AgavBCUnHfA",
        "outputId": "47ae2c7c-d27f-4315-c4ff-ccc1d67acba2"
      },
      "source": [
        "from scipy.stats import norm\n",
        "mean=4.4\n",
        "sd=1.3\n",
        "X=3.1\n",
        "Y=7\n",
        "a=norm.cdf(X,mean,sd) \n",
        "b=norm.cdf(Y,mean,sd)\n",
        "c=b-a \n",
        "print(\"Probability that a randomly selected raspberry would weigh at least 3.1 gm but not more than 7.0 gm is:\"+str(c))"
      ],
      "execution_count": 59,
      "outputs": [
        {
          "output_type": "stream",
          "name": "stdout",
          "text": [
            "Probability that a randomly selected raspberry would weigh at least 3.1 gm but not more than 7.0 gm is:0.8185946141203637\n"
          ]
        }
      ]
    },
    {
      "cell_type": "code",
      "metadata": {
        "colab": {
          "base_uri": "https://localhost:8080/"
        },
        "id": "3Rg2AoaNnqk9",
        "outputId": "47a3f05e-dc9d-4417-f7ab-e6657f47fffe"
      },
      "source": [
        "from scipy.stats import norm\n",
        "people=330000\n",
        "mean=175\n",
        "sd=10\n",
        "X=205\n",
        "a=norm.cdf(X,mean,sd) \n",
        "b=1-a\n",
        "print(\"Probability of people to be taller than 205 cm is:\"+str(b))\n",
        "c=(people)*b\n",
        "print(\"People taller than 205cm is:\"+str(c))"
      ],
      "execution_count": 60,
      "outputs": [
        {
          "output_type": "stream",
          "name": "stdout",
          "text": [
            "Probability of people to be taller than 205 cm is:0.0013498980316301035\n",
            "People taller than 205cm is:445.4663504379341\n"
          ]
        }
      ]
    },
    {
      "cell_type": "code",
      "metadata": {
        "colab": {
          "base_uri": "https://localhost:8080/"
        },
        "id": "YoSvCG0kpy0X",
        "outputId": "342dd493-5546-4e67-a01d-55aea8808252"
      },
      "source": [
        "from scipy.stats import norm\n",
        "\n",
        "p=62\n",
        "q=90\n",
        "Mean=(p+q)/2\n",
        "print(\"Mean is:\"+str(Mean))\n",
        "sd=(Mean-p)/2\n",
        "print(\"Standard deviation is:\"+str(sd))"
      ],
      "execution_count": 44,
      "outputs": [
        {
          "output_type": "stream",
          "name": "stdout",
          "text": [
            "Mean is:76.0\n",
            "Standard deviation is:7.0\n"
          ]
        }
      ]
    },
    {
      "cell_type": "code",
      "metadata": {
        "colab": {
          "base_uri": "https://localhost:8080/"
        },
        "id": "J-6T6C8BNXpM",
        "outputId": "cc6e0a08-254d-454d-e4e4-575f53c74318"
      },
      "source": [
        "from scipy.stats import norm\n",
        "mean=80\n",
        "sd=5.2\n",
        "X=73\n",
        "Y=82\n",
        "Z=86\n",
        "a=norm.cdf(X,mean,sd)\n",
        "b=norm.cdf(Y,mean,sd)\n",
        "c=norm.cdf(Z,mean,sd) \n",
        "d=a*100\n",
        "print(\"Percentage of scores that lies below 73 is:\"+str(d))\n",
        "e=(c-b)*100\n",
        "print(\"Percentage of scores that lies between 82 and 86 is:\"+str(e))\n",
        "f=100-d\n",
        "print(\"Percentage of scores that lies above 73 is:\"+str(f))\n"
      ],
      "execution_count": 61,
      "outputs": [
        {
          "output_type": "stream",
          "name": "stdout",
          "text": [
            "Percentage of scores that lies below 73 is:8.912645309802992\n",
            "Percentage of scores that lies between 82 and 86 is:22.597957294333327\n",
            "Percentage of scores that lies above 73 is:91.087354690197\n"
          ]
        }
      ]
    },
    {
      "cell_type": "code",
      "metadata": {
        "colab": {
          "base_uri": "https://localhost:8080/"
        },
        "id": "Dfjo4wIC_Kvs",
        "outputId": "2348bd69-ee07-4062-bad4-fcbb50ff2fcc"
      },
      "source": [
        "from scipy.stats import norm\n",
        "mean=134\n",
        "sd=35\n",
        "X=80\n",
        "a=norm.cdf(X,mean,sd) \n",
        "print(\"Probability that the person’s triglyceride level is less than 80 is:\"+str(a))"
      ],
      "execution_count": 62,
      "outputs": [
        {
          "output_type": "stream",
          "name": "stdout",
          "text": [
            "Probability that the person’s triglyceride level is less than 80 is:0.06143272061465878\n"
          ]
        }
      ]
    }
  ]
}