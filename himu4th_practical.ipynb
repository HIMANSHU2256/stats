{
  "nbformat": 4,
  "nbformat_minor": 0,
  "metadata": {
    "colab": {
      "name": "himu4th practical.ipynb",
      "provenance": [],
      "authorship_tag": "ABX9TyO+UTz6gW8MriDx2ZVW9JV6",
      "include_colab_link": true
    },
    "kernelspec": {
      "name": "python3",
      "display_name": "Python 3"
    },
    "language_info": {
      "name": "python"
    }
  },
  "cells": [
    {
      "cell_type": "markdown",
      "metadata": {
        "id": "view-in-github",
        "colab_type": "text"
      },
      "source": [
        "<a href=\"https://colab.research.google.com/github/HIMANSHU2256/stats/blob/main/himu4th_practical.ipynb\" target=\"_parent\"><img src=\"https://colab.research.google.com/assets/colab-badge.svg\" alt=\"Open In Colab\"/></a>"
      ]
    },
    {
      "cell_type": "code",
      "metadata": {
        "colab": {
          "base_uri": "https://localhost:8080/"
        },
        "id": "tjzQdphsgXHf",
        "outputId": "516df23c-eccf-4f2f-8231-1fcc4630bd70"
      },
      "source": [
        "from scipy.stats import norm\n",
        "mean=14\n",
        "sd=1\n",
        "a=norm.cdf(13,mean,sd) \n",
        "b=1-a \n",
        "print(\"Probability that a battery lasts at least 13 hours is:\"+str(b))"
      ],
      "execution_count": 23,
      "outputs": [
        {
          "output_type": "stream",
          "name": "stdout",
          "text": [
            "Probability that a battery lasts at least 13 hours is:0.8413447460685429\n"
          ]
        }
      ]
    },
    {
      "cell_type": "code",
      "metadata": {
        "colab": {
          "base_uri": "https://localhost:8080/"
        },
        "id": "3AgavBCUnHfA",
        "outputId": "a16036d5-8311-494a-ed62-b5598187ef0e"
      },
      "source": [
        "from scipy.stats import norm\n",
        "mean=4.4\n",
        "sd=1.3\n",
        "a=norm.cdf(3.1,mean,sd) \n",
        "b=norm.cdf(7,mean,sd)\n",
        "c=b-a \n",
        "print(\"Probability that a randomly selected raspberry would weigh at least 3.1 gm but not more than 7.0 gm is:\"+str(c))"
      ],
      "execution_count": 24,
      "outputs": [
        {
          "output_type": "stream",
          "name": "stdout",
          "text": [
            "Probability that a randomly selected raspberry would weigh at least 3.1 gm but not more than 7.0 gm is:0.8185946141203637\n"
          ]
        }
      ]
    },
    {
      "cell_type": "code",
      "metadata": {
        "colab": {
          "base_uri": "https://localhost:8080/"
        },
        "id": "3Rg2AoaNnqk9",
        "outputId": "ddd6dd2a-5cce-4d5e-819f-02787c6e9621"
      },
      "source": [
        "from scipy.stats import norm\n",
        "people=330000\n",
        "mean=175\n",
        "sd=10\n",
        "a=norm.cdf(205,mean,sd) \n",
        "b=1-a\n",
        "print(\"Probability of people to be taller than 205 cm is:\"+str(b))\n",
        "c=(people)*b\n",
        "print(\"People taller than 205cm is:\"+str(c))"
      ],
      "execution_count": 57,
      "outputs": [
        {
          "output_type": "stream",
          "name": "stdout",
          "text": [
            "Probability of people to be taller than 205 cm is:0.0013498980316301035\n",
            "People taller than 205cm is:445.4663504379341\n"
          ]
        }
      ]
    },
    {
      "cell_type": "code",
      "metadata": {
        "colab": {
          "base_uri": "https://localhost:8080/"
        },
        "id": "YoSvCG0kpy0X",
        "outputId": "342dd493-5546-4e67-a01d-55aea8808252"
      },
      "source": [
        "from scipy.stats import norm\n",
        "\n",
        "p=62\n",
        "q=90\n",
        "Mean=(p+q)/2\n",
        "print(\"Mean is:\"+str(Mean))\n",
        "sd=(Mean-p)/2\n",
        "print(\"Standard deviation is:\"+str(sd))"
      ],
      "execution_count": 44,
      "outputs": [
        {
          "output_type": "stream",
          "name": "stdout",
          "text": [
            "Mean is:76.0\n",
            "Standard deviation is:7.0\n"
          ]
        }
      ]
    },
    {
      "cell_type": "code",
      "metadata": {
        "colab": {
          "base_uri": "https://localhost:8080/"
        },
        "id": "J-6T6C8BNXpM",
        "outputId": "88054839-55f5-4b13-db0a-759d83a61841"
      },
      "source": [
        "from scipy.stats import norm\n",
        "mean=80\n",
        "sd=5.2\n",
        "a=norm.cdf(73,mean,sd)\n",
        "b=norm.cdf(82,mean,sd)\n",
        "c=norm.cdf(86,mean,sd) \n",
        "d=a*100\n",
        "print(\"Percentage of scores that lies below 73 is:\"+str(d))\n",
        "e=(c-b)*100\n",
        "print(\"Percentage of scores that lies between 82 and 86 is:\"+str(e))\n",
        "f=100-d\n",
        "print(\"Percentage of scores that lies above 73 is:\"+str(f))\n"
      ],
      "execution_count": 56,
      "outputs": [
        {
          "output_type": "stream",
          "name": "stdout",
          "text": [
            "Percentage of scores that lies below 73 is:8.912645309802992\n",
            "Percentage of scores that lies between 82 and 86 is:22.597957294333327\n",
            "Percentage of scores that lies above 73 is:91.087354690197\n"
          ]
        }
      ]
    },
    {
      "cell_type": "code",
      "metadata": {
        "colab": {
          "base_uri": "https://localhost:8080/"
        },
        "id": "Dfjo4wIC_Kvs",
        "outputId": "7b389cdb-0aca-41a6-c6a6-f2e984f3d341"
      },
      "source": [
        "from scipy.stats import norm\n",
        "mean=134\n",
        "sd=35\n",
        "a=norm.cdf(80,mean,sd) \n",
        "print(\"Probability that the person’s triglyceride level is less than 80 is:\"+str(a))"
      ],
      "execution_count": 45,
      "outputs": [
        {
          "output_type": "stream",
          "name": "stdout",
          "text": [
            "Probability that the person’s triglyceride level is less than 80 is:0.06143272061465878\n"
          ]
        }
      ]
    }
  ]
}