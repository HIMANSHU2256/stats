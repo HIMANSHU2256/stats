{
  "nbformat": 4,
  "nbformat_minor": 0,
  "metadata": {
    "colab": {
      "name": "Untitled6.ipynb",
      "provenance": [],
      "collapsed_sections": [],
      "authorship_tag": "ABX9TyOYCCcROqdRVAlyidlOfgV8",
      "include_colab_link": true
    },
    "kernelspec": {
      "name": "python3",
      "display_name": "Python 3"
    },
    "language_info": {
      "name": "python"
    }
  },
  "cells": [
    {
      "cell_type": "markdown",
      "metadata": {
        "id": "view-in-github",
        "colab_type": "text"
      },
      "source": [
        "<a href=\"https://colab.research.google.com/github/HIMANSHU2256/stats/blob/main/Untitled6.ipynb\" target=\"_parent\"><img src=\"https://colab.research.google.com/assets/colab-badge.svg\" alt=\"Open In Colab\"/></a>"
      ]
    },
    {
      "cell_type": "code",
      "metadata": {
        "id": "scQ00zGRcKZ-",
        "colab": {
          "base_uri": "https://localhost:8080/"
        },
        "outputId": "9f4bc460-a1c6-4f25-f961-c689c7849258"
      },
      "source": [
        "from scipy.stats import norm\n",
        "mean=100\n",
        "sd=10\n",
        "X=120\n",
        "a=norm.cdf(X,mean,sd)  \n",
        "print(\"Probability of tree height upto 120cm:\"+str(a))"
      ],
      "execution_count": 1,
      "outputs": [
        {
          "output_type": "stream",
          "name": "stdout",
          "text": [
            "Probability of tree height upto 120cm:0.9772498680518208\n"
          ]
        }
      ]
    },
    {
      "cell_type": "code",
      "metadata": {
        "colab": {
          "base_uri": "https://localhost:8080/"
        },
        "id": "8BAs-dGdvBXr",
        "outputId": "2e49a87a-a717-4271-eb15-7fcb3368e8c0"
      },
      "source": [
        "from scipy.stats import norm\n",
        "mean=20\n",
        "sd=1.5\n",
        "X=25\n",
        "a=norm.cdf(X,mean,sd) \n",
        "b=1-a \n",
        "print(\"Probability that a sock is above 20cm is:\"+str(b))"
      ],
      "execution_count": 3,
      "outputs": [
        {
          "output_type": "stream",
          "name": "stdout",
          "text": [
            "Probability that a sock is above 20cm is:0.0004290603331967846\n"
          ]
        }
      ]
    },
    {
      "cell_type": "code",
      "metadata": {
        "colab": {
          "base_uri": "https://localhost:8080/"
        },
        "id": "XHntJyMmxO6C",
        "outputId": "dd4c38db-dd73-4ff4-fd7e-13657210d742"
      },
      "source": [
        "from scipy.stats import norm\n",
        "mean=50\n",
        "sd=15\n",
        "X1=50\n",
        "X2=70\n",
        "a=norm.cdf(X1,mean,sd)\n",
        "b=norm.cdf(X2,mean,sd) \n",
        "c=b-a \n",
        "print(\"Probability that time period between 50 & 70 hours is:\"+str(c))"
      ],
      "execution_count": 2,
      "outputs": [
        {
          "output_type": "stream",
          "name": "stdout",
          "text": [
            "Probability that time period between 50 & 70 hours is:0.4087887802741321\n"
          ]
        }
      ]
    },
    {
      "cell_type": "code",
      "metadata": {
        "colab": {
          "base_uri": "https://localhost:8080/"
        },
        "id": "OUy3xUYKxSPZ",
        "outputId": "8d024467-c4d0-491c-ba31-bdbe89bcf687"
      },
      "source": [
        "from scipy.stats import norm\n",
        "mean=90\n",
        "sd=10\n",
        "X=100\n",
        "a=norm.cdf(X,mean,sd) \n",
        "b=1-a \n",
        "print(\"Probability that car selected at chance is moving more than 100km/hr is:\"+str(b))"
      ],
      "execution_count": 5,
      "outputs": [
        {
          "output_type": "stream",
          "name": "stdout",
          "text": [
            "Probability that car selected at chance is moving more than 100km/hr is:0.15865525393145707\n"
          ]
        }
      ]
    },
    {
      "cell_type": "code",
      "metadata": {
        "colab": {
          "base_uri": "https://localhost:8080/"
        },
        "id": "bYn4UfWK0dFf",
        "outputId": "2b579315-3b0b-4d0f-f264-42296d81c1ff"
      },
      "source": [
        "from scipy.stats import norm\n",
        "mean=100\n",
        "sd=14\n",
        "z=-2.5\n",
        "x=sd*z + mean\n",
        "print(\"The value of a is\"+str(x))\n",
        "z1=2.5\n",
        "y=sd*z1 + mean\n",
        "print(\"The value of b is\"+str(y))\n",
        "\n"
      ],
      "execution_count": 8,
      "outputs": [
        {
          "output_type": "stream",
          "name": "stdout",
          "text": [
            "The value of a is65.0\n",
            "The value of b is135.0\n"
          ]
        }
      ]
    }
  ]
}