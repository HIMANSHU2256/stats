{
  "nbformat": 4,
  "nbformat_minor": 0,
  "metadata": {
    "colab": {
      "name": "Untitled0.ipynb",
      "provenance": [],
      "collapsed_sections": [],
      "authorship_tag": "ABX9TyN7ARHHoLNuhwD+Uswdqam8",
      "include_colab_link": true
    },
    "kernelspec": {
      "name": "python3",
      "display_name": "Python 3"
    },
    "language_info": {
      "name": "python"
    }
  },
  "cells": [
    {
      "cell_type": "markdown",
      "metadata": {
        "id": "view-in-github",
        "colab_type": "text"
      },
      "source": [
        "<a href=\"https://colab.research.google.com/github/HIMANSHU2256/stats/blob/main/himu.ipynb\" target=\"_parent\"><img src=\"https://colab.research.google.com/assets/colab-badge.svg\" alt=\"Open In Colab\"/></a>"
      ]
    },
    {
      "cell_type": "code",
      "metadata": {
        "id": "Gj8HSr-NQ8rH",
        "colab": {
          "base_uri": "https://localhost:8080/"
        },
        "outputId": "2d385895-8acb-4e02-fb92-1b15d3896279"
      },
      "source": [
        "n=int(input(\"enter the number\"))\n",
        "sum=0\n",
        "for i in range(1,n+1):\n",
        "   sum=sum+i\n",
        "print(\"Sum of first\",n,\"numbers is:\", sum)\n",
        "average=sum/n\n",
        "print(\"Average of first\",n,\"numbers is:\", average)\n"
      ],
      "execution_count": 1,
      "outputs": [
        {
          "output_type": "stream",
          "name": "stdout",
          "text": [
            "enter the number10\n",
            "Sum of first 10 numbers is: 55\n",
            "Average of first 10 numbers is: 5.5\n"
          ]
        }
      ]
    },
    {
      "cell_type": "code",
      "metadata": {
        "colab": {
          "base_uri": "https://localhost:8080/"
        },
        "id": "Ur46v50gQ-Q9",
        "outputId": "9ec5fbcd-e665-4152-9288-579978fb71bd"
      },
      "source": [
        "for i in range(1,11):\n",
        "   print(i)"
      ],
      "execution_count": null,
      "outputs": [
        {
          "output_type": "stream",
          "name": "stdout",
          "text": [
            "1\n",
            "2\n",
            "3\n",
            "4\n",
            "5\n",
            "6\n",
            "7\n",
            "8\n",
            "9\n",
            "10\n"
          ]
        }
      ]
    },
    {
      "cell_type": "code",
      "metadata": {
        "colab": {
          "base_uri": "https://localhost:8080/"
        },
        "id": "FFTGg-ccU_sJ",
        "outputId": "1e2175fe-fe5a-4e7a-8e7f-4cf81bc795ba"
      },
      "source": [
        "n=int(input(\"enter a number:\"))\n",
        "fact=1\n",
        "for i in range(1,n+1):\n",
        "   fact=fact*i\n",
        "print(\"factorial of given no is:\", fact)"
      ],
      "execution_count": null,
      "outputs": [
        {
          "output_type": "stream",
          "name": "stdout",
          "text": [
            "enter a number:5\n",
            "factorial of given no is: 120\n"
          ]
        }
      ]
    },
    {
      "cell_type": "code",
      "metadata": {
        "colab": {
          "base_uri": "https://localhost:8080/"
        },
        "id": "_Ve_mD23WCoJ",
        "outputId": "bc7443c7-33e9-4cae-d1a1-8fe1281a2a39"
      },
      "source": [
        "import numpy as np\n",
        "marray=np.arange(100,200,10)\n",
        "marray=marray.reshape(5,2)\n",
        "print(marray)"
      ],
      "execution_count": null,
      "outputs": [
        {
          "output_type": "stream",
          "name": "stdout",
          "text": [
            "[[100 110]\n",
            " [120 130]\n",
            " [140 150]\n",
            " [160 170]\n",
            " [180 190]]\n"
          ]
        }
      ]
    },
    {
      "cell_type": "code",
      "metadata": {
        "colab": {
          "base_uri": "https://localhost:8080/",
          "height": 279
        },
        "id": "8UV4LJxWXhkx",
        "outputId": "36c31a55-b3c6-48f5-cb96-e869774641a2"
      },
      "source": [
        "import matplotlib.pyplot as plt\n",
        "x=[1,3,5]\n",
        "y=[2,1,5]\n",
        "plt.plot(x,y)\n",
        "plt.xlabel(\"x axis\")\n",
        "plt.ylabel(\"y axis\")\n",
        "plt.show()"
      ],
      "execution_count": null,
      "outputs": [
        {
          "output_type": "display_data",
          "data": {
            "image/png": "[encoded data removed]",
            "text/plain": [
              "<Figure size 432x288 with 1 Axes>"
            ]
          },
          "metadata": {
            "needs_background": "light"
          }
        }
      ]
    },
    {
      "cell_type": "code",
      "metadata": {
        "colab": {
          "base_uri": "https://localhost:8080/"
        },
        "id": "nXa-iPU2ZyXu",
        "outputId": "8c04d95d-4a04-414b-baa6-41b118a816fd"
      },
      "source": [
        "list1=[1,2,3,4]\n",
        "list2=[5,6,7,8]\n",
        "list3=[]\n",
        "odd=[]\n",
        "even=[]\n",
        "for i in range(0,len(list1)):\n",
        "   if i%2==0:\n",
        "      odd.append(list1[i])\n",
        "for j in range(0,len(list2)):    \n",
        "   if j%2!=0:\n",
        "      even.append(list2[j])\n",
        "list3= odd + even\n",
        "print(list3)      "
      ],
      "execution_count": null,
      "outputs": [
        {
          "output_type": "stream",
          "name": "stdout",
          "text": [
            "[1, 3, 6, 8]\n"
          ]
        }
      ]
    },
    {
      "cell_type": "code",
      "metadata": {
        "colab": {
          "base_uri": "https://localhost:8080/"
        },
        "id": "rU3WRJ8ifxX1",
        "outputId": "064289fc-120f-41b1-dc43-c093a678162a"
      },
      "source": [
        "import random\n",
        "a=random.randrange(100,999,5)\n",
        "b=random.randrange(100,999,5)\n",
        "c=random.randrange(100,999,5)\n",
        "print(\"Numbers is:\",a,b,c)"
      ],
      "execution_count": null,
      "outputs": [
        {
          "output_type": "stream",
          "name": "stdout",
          "text": [
            "Numbers is: 245 825 495\n"
          ]
        }
      ]
    },
    {
      "cell_type": "code",
      "metadata": {
        "colab": {
          "base_uri": "https://localhost:8080/"
        },
        "id": "jXvrf9qJh6AK",
        "outputId": "95b55b76-4186-4a07-8791-3652ff3e8359"
      },
      "source": [
        "import random\n",
        "lotticket=[]\n",
        "for i in range(100):\n",
        "    lotticket.append(random.randrange(100,999))\n",
        "win=random.sample(lotticket,2)\n",
        "print(win)"
      ],
      "execution_count": null,
      "outputs": [
        {
          "output_type": "stream",
          "name": "stdout",
          "text": [
            "[944, 471]\n"
          ]
        }
      ]
    },
    {
      "cell_type": "code",
      "metadata": {
        "colab": {
          "base_uri": "https://localhost:8080/"
        },
        "id": "fX-n_YcsjHAR",
        "outputId": "f10eef3a-7730-408d-8ed3-168819f29cde"
      },
      "source": [
        "import string\n",
        "import random\n",
        "n=5\n",
        "rstr=\" \".join(random.choices(string.ascii_uppercase + string.digits,k = n))\n",
        "print(rstr)"
      ],
      "execution_count": null,
      "outputs": [
        {
          "output_type": "stream",
          "name": "stdout",
          "text": [
            "P 9 D A A\n"
          ]
        }
      ]
    },
    {
      "cell_type": "code",
      "metadata": {
        "colab": {
          "base_uri": "https://localhost:8080/"
        },
        "id": "O7lbrXj4kMuq",
        "outputId": "bfabbb8e-e8ab-4e25-8a56-629e3136270e"
      },
      "source": [
        "import string\n",
        "import random\n",
        "a=string.ascii_letters\n",
        "b=random.choice(string.ascii_letters)\n",
        "print(b)"
      ],
      "execution_count": null,
      "outputs": [
        {
          "output_type": "stream",
          "name": "stdout",
          "text": [
            "i\n"
          ]
        }
      ]
    }
  ]
}